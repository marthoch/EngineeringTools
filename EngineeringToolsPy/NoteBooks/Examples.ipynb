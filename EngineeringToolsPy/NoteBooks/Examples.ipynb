{
 "cells": [
  {
   "cell_type": "code",
   "execution_count": 1,
   "metadata": {
    "code_folding": []
   },
   "outputs": [],
   "source": [
    "# add EngineeringTools to python path if required\n",
    "import sys\n",
    "sys.path.insert(0, r'C:/data/GitHub/EngineeringTools/EngineeringToolsPy/src')"
   ]
  },
  {
   "cell_type": "code",
   "execution_count": 2,
   "metadata": {},
   "outputs": [],
   "source": [
    "import EngineeringTools as ET\n",
    "#import EngineeringTools.quantities as ETQ    # quantities\n",
    "#from EngineeringTools.tools import tools as ETtools  # sin, cos, tan, ....\n",
    "ET.Quantity.set_displayUnitSystem('mechanicalEngineering')  # specifying default unit system"
   ]
  },
  {
   "cell_type": "code",
   "execution_count": 3,
   "metadata": {},
   "outputs": [],
   "source": [
    "# help\n",
    "# For each class or object the documentation can be accessed by adding a ?\n",
    "ET.Distance?"
   ]
  },
  {
   "cell_type": "markdown",
   "metadata": {},
   "source": [
    "# Quantities\n",
    "\n",
    "The main kind of objects (super class) in EngineeringTools are Quantities. A Quantity represents a physical quantity like length/distance or energy.\n",
    "\n",
    "One goal within EngineeringTools is to avoid mistakes, or at least detect as many as possible. \n",
    "One source of mistakes is unit conversions. Quantities can be used the convert values between various units.   \n",
    "`ET.Distance(1, 'm').get_value('mm')   … 1000` \n",
    "\n",
    "One other source of mistake is error in equations. One known way to detect this kind of mistake is to check the plausibility of a calculation based on the units of the operands. This check cannot guaranty that the calculation is correct, but many incorrect cases can be detected.   \n",
    "For calculations, quantities are not sufficient as not every intermediate result does correspond with defined quantities. Therefore, UVals are used for intermediate results. UVal’s units are represented in base units (kg, m, s, …) which are used to check the calculation. Quantities are automatically converted to UVals where necessary. By converting them back to Quantities it is checked whether the result’s unit fits with the expects Quantity.  \n",
    "`Area( Distance(1,’m’)* Distance(1,’m’))`\n"
   ]
  },
  {
   "cell_type": "code",
   "execution_count": 4,
   "metadata": {},
   "outputs": [
    {
     "data": {
      "text/html": [
       "<font face=\"monospace\">&nbsp;&nbsp;&nbsp;&nbsp;&nbsp;1&nbsp;000.000&nbsp;mm&nbsp;(Distance)</font>\n"
      ],
      "text/plain": [
       "quantities.Distance(value=1.0, unit='m', displayUnit='mm')"
      ]
     },
     "execution_count": 4,
     "metadata": {},
     "output_type": "execute_result"
    }
   ],
   "source": [
    "ET.Distance(1, 'm')"
   ]
  },
  {
   "cell_type": "code",
   "execution_count": 5,
   "metadata": {},
   "outputs": [
    {
     "data": {
      "text/html": [
       "<font face=\"monospace\">1.000 {m}</font>\n"
      ],
      "text/plain": [
       "UVal(1.0, {'meter': Fraction(1, 1)})"
      ]
     },
     "execution_count": 5,
     "metadata": {},
     "output_type": "execute_result"
    }
   ],
   "source": [
    "ET.Distance(1, 'm').uval"
   ]
  },
  {
   "cell_type": "code",
   "execution_count": 6,
   "metadata": {},
   "outputs": [
    {
     "data": {
      "text/plain": [
       "1000.0"
      ]
     },
     "execution_count": 6,
     "metadata": {},
     "output_type": "execute_result"
    }
   ],
   "source": [
    "ET.Distance(1, 'm').get_value('mm')"
   ]
  },
  {
   "cell_type": "code",
   "execution_count": 7,
   "metadata": {},
   "outputs": [
    {
     "name": "stdout",
     "output_type": "stream",
     "text": [
      "6894.757\n"
     ]
    },
    {
     "data": {
      "text/html": [
       "<font face=\"monospace\">&nbsp;&nbsp;&nbsp;&nbsp;&nbsp;1&nbsp;000&nbsp;&nbsp;&nbsp;&nbsp;&nbsp;lbf/in^2&nbsp;(Pressure)</font>\n"
      ],
      "text/plain": [
       "quantities.Pressure(value=6894757.0, unit='Pa', displayUnit='lbf/in^2')"
      ]
     },
     "execution_count": 7,
     "metadata": {},
     "output_type": "execute_result"
    }
   ],
   "source": [
    "p = ET.Pressure(1000., 'psi')\n",
    "# try this:  p = ETQ.Pressure(1000., 'psiXXXXX')\n",
    "print(p.get_value('kPa'))\n",
    "p.set_displayUnit('lbf/in^2')\n",
    "p"
   ]
  },
  {
   "cell_type": "markdown",
   "metadata": {},
   "source": [
    "## To find the name of the quantity help functions are available."
   ]
  },
  {
   "cell_type": "code",
   "execution_count": 8,
   "metadata": {
    "scrolled": true
   },
   "outputs": [
    {
     "data": {
      "text/plain": [
       "{EngineeringTools.quantities.electrical.Current,\n",
       " EngineeringTools.quantities.electrical.Inductance,\n",
       " EngineeringTools.quantities.electrical.Resistance,\n",
       " EngineeringTools.quantities.electrical.Voltage,\n",
       " EngineeringTools.quantities.mechanics.Acceleration,\n",
       " EngineeringTools.quantities.mechanics.Angle,\n",
       " EngineeringTools.quantities.mechanics.Area,\n",
       " EngineeringTools.quantities.mechanics.BendingMoment,\n",
       " EngineeringTools.quantities.mechanics.Boolean,\n",
       " EngineeringTools.quantities.mechanics.Density,\n",
       " EngineeringTools.quantities.mechanics.Distance,\n",
       " EngineeringTools.quantities.mechanics.Energie,\n",
       " EngineeringTools.quantities.mechanics.Flowrate,\n",
       " EngineeringTools.quantities.mechanics.FlowrateMass,\n",
       " EngineeringTools.quantities.mechanics.Force,\n",
       " EngineeringTools.quantities.mechanics.Frequency,\n",
       " EngineeringTools.quantities.mechanics.Mass,\n",
       " EngineeringTools.quantities.mechanics.MomentOfAreaFirst,\n",
       " EngineeringTools.quantities.mechanics.MomentOfAreaSecond,\n",
       " EngineeringTools.quantities.mechanics.MomentOfInertiaOfMass,\n",
       " EngineeringTools.quantities.mechanics.Number,\n",
       " EngineeringTools.quantities.mechanics.Power,\n",
       " EngineeringTools.quantities.mechanics.Pressure,\n",
       " EngineeringTools.quantities.mechanics.Scalar,\n",
       " EngineeringTools.quantities.mechanics.SectionModulus,\n",
       " EngineeringTools.quantities.mechanics.Speed,\n",
       " EngineeringTools.quantities.mechanics.SpringConstant,\n",
       " EngineeringTools.quantities.mechanics.SpringConstantTorsion,\n",
       " EngineeringTools.quantities.mechanics.Stress,\n",
       " EngineeringTools.quantities.mechanics.TemperatureAbsolute,\n",
       " EngineeringTools.quantities.mechanics.TemperatureDifferential,\n",
       " EngineeringTools.quantities.mechanics.Text,\n",
       " EngineeringTools.quantities.mechanics.Time,\n",
       " EngineeringTools.quantities.mechanics.Torque,\n",
       " EngineeringTools.quantities.mechanics.Velocity,\n",
       " EngineeringTools.quantities.mechanics.VelocityAngular,\n",
       " EngineeringTools.quantities.mechanics.ViscosityDynamic,\n",
       " EngineeringTools.quantities.mechanics.ViscosityKinematic,\n",
       " EngineeringTools.quantities.mechanics.Volume,\n",
       " EngineeringTools.quantities.quantitiesbase.QuantityBoolean,\n",
       " EngineeringTools.quantities.quantitiesbase.QuantityDecimal,\n",
       " EngineeringTools.quantities.quantitiesbase.QuantityFloat,\n",
       " EngineeringTools.quantities.quantitiesbase.QuantityFloatOffset,\n",
       " EngineeringTools.quantities.quantitiesbase.QuantityInt,\n",
       " EngineeringTools.quantities.quantitiesbase.QuantityNumeric,\n",
       " EngineeringTools.quantities.quantitiesbase.QuantityString}"
      ]
     },
     "execution_count": 8,
     "metadata": {},
     "output_type": "execute_result"
    }
   ],
   "source": [
    "ET.get_all_available_quantities()\n",
    "# most quatities are availabe under ETQ  like ETQ.Distance"
   ]
  },
  {
   "cell_type": "code",
   "execution_count": 9,
   "metadata": {},
   "outputs": [
    {
     "data": {
      "text/plain": [
       "{EngineeringTools.quantities.mechanics.Distance}"
      ]
     },
     "execution_count": 9,
     "metadata": {},
     "output_type": "execute_result"
    }
   ],
   "source": [
    "ET.find_quantity_by_unit('m')"
   ]
  },
  {
   "cell_type": "code",
   "execution_count": 10,
   "metadata": {},
   "outputs": [
    {
     "data": {
      "text/plain": [
       "{EngineeringTools.quantities.mechanics.BendingMoment,\n",
       " EngineeringTools.quantities.mechanics.Torque}"
      ]
     },
     "execution_count": 10,
     "metadata": {},
     "output_type": "execute_result"
    }
   ],
   "source": [
    "ET.find_quantity_by_unit('N.m')"
   ]
  },
  {
   "cell_type": "code",
   "execution_count": 11,
   "metadata": {},
   "outputs": [
    {
     "data": {
      "text/plain": [
       "{EngineeringTools.quantities.mechanics.Stress}"
      ]
     },
     "execution_count": 11,
     "metadata": {},
     "output_type": "execute_result"
    }
   ],
   "source": [
    "ET.find_quantity_by_unit('N/mm^2')"
   ]
  },
  {
   "cell_type": "markdown",
   "metadata": {},
   "source": [
    "## UVal"
   ]
  },
  {
   "cell_type": "code",
   "execution_count": 12,
   "metadata": {},
   "outputs": [
    {
     "data": {
      "text/html": [
       "<font face=\"monospace\">&nbsp;&nbsp;&nbsp;&nbsp;&nbsp;1&nbsp;000.000&nbsp;mm&nbsp;(Distance)</font>\n"
      ],
      "text/plain": [
       "quantities.Distance(value=1.0, unit='m', displayUnit='mm')"
      ]
     },
     "execution_count": 12,
     "metadata": {},
     "output_type": "execute_result"
    }
   ],
   "source": [
    "L1 = ET.Distance(1, 'm')\n",
    "L1"
   ]
  },
  {
   "cell_type": "code",
   "execution_count": 13,
   "metadata": {},
   "outputs": [
    {
     "data": {
      "text/html": [
       "<font face=\"monospace\">1.000 {m}</font>\n"
      ],
      "text/plain": [
       "UVal(1.0, {'meter': Fraction(1, 1)})"
      ]
     },
     "execution_count": 13,
     "metadata": {},
     "output_type": "execute_result"
    }
   ],
   "source": [
    "L1.uval"
   ]
  },
  {
   "cell_type": "code",
   "execution_count": 14,
   "metadata": {},
   "outputs": [
    {
     "data": {
      "text/html": [
       "<font face=\"monospace\">&nbsp;&nbsp;&nbsp;&nbsp;&nbsp;&nbsp;&nbsp;&nbsp;&nbsp;1.00&nbsp;&nbsp;kN&nbsp;(Force)</font>\n"
      ],
      "text/plain": [
       "quantities.Force(value=1000.0, unit='N', displayUnit='kN')"
      ]
     },
     "execution_count": 14,
     "metadata": {},
     "output_type": "execute_result"
    }
   ],
   "source": [
    "F = ET.Force(1000, 'N')\n",
    "F"
   ]
  },
  {
   "cell_type": "code",
   "execution_count": 15,
   "metadata": {},
   "outputs": [
    {
     "data": {
      "text/html": [
       "<font face=\"monospace\">1000. {kg m s^-2}</font>\n"
      ],
      "text/plain": [
       "UVal(1000.0, {'kilogram': Fraction(1, 1), 'meter': Fraction(1, 1), 'second': Fraction(-2, 1)})"
      ]
     },
     "execution_count": 15,
     "metadata": {},
     "output_type": "execute_result"
    }
   ],
   "source": [
    "F.uval"
   ]
  },
  {
   "cell_type": "code",
   "execution_count": 16,
   "metadata": {},
   "outputs": [
    {
     "data": {
      "text/html": [
       "<font face=\"monospace\">1000. {kg m^2 s^-2}</font>\n"
      ],
      "text/plain": [
       "UVal(1000.0, {'kilogram': Fraction(1, 1), 'meter': Fraction(2, 1), 'second': Fraction(-2, 1)})"
      ]
     },
     "execution_count": 16,
     "metadata": {},
     "output_type": "execute_result"
    }
   ],
   "source": [
    "E = L1*F\n",
    "E"
   ]
  },
  {
   "cell_type": "code",
   "execution_count": 17,
   "metadata": {},
   "outputs": [
    {
     "data": {
      "text/html": [
       "<font face=\"monospace\">&nbsp;&nbsp;&nbsp;&nbsp;&nbsp;1&nbsp;000&nbsp;&nbsp;&nbsp;&nbsp;&nbsp;J&nbsp;(Energie)</font>\n"
      ],
      "text/plain": [
       "quantities.Energie(value=1000.0, unit='J', displayUnit='J')"
      ]
     },
     "execution_count": 17,
     "metadata": {},
     "output_type": "execute_result"
    }
   ],
   "source": [
    "ET.Energie(E)"
   ]
  },
  {
   "cell_type": "markdown",
   "metadata": {},
   "source": [
    "## Mathematical functions: sin, tan, ...\n",
    "\n",
    "The functions for the standard module math or for numpy do not recognize Quantities or UVals. Therefore, the function from EngineeringTools.tools must be used which are usually imported as `ETtools`.  \n",
    "`ETtools` + tab shows the available functions. Function name + ? shows the help text.\n"
   ]
  },
  {
   "cell_type": "code",
   "execution_count": 18,
   "metadata": {},
   "outputs": [
    {
     "data": {
      "text/html": [
       "<font face=\"monospace\">&nbsp;&nbsp;&nbsp;&nbsp;&nbsp;&nbsp;&nbsp;&nbsp;&nbsp;1.000&nbsp;&nbsp;(Scalar)</font>\n"
      ],
      "text/plain": [
       "quantities.Scalar(value=0.9999999999999999, unit='1.0', displayUnit='')"
      ]
     },
     "execution_count": 18,
     "metadata": {},
     "output_type": "execute_result"
    }
   ],
   "source": [
    "ET.tan(ET.Angle(45, 'deg'))"
   ]
  },
  {
   "cell_type": "markdown",
   "metadata": {},
   "source": [
    "# Example: Calculation of the Volume of a Box"
   ]
  },
  {
   "cell_type": "code",
   "execution_count": 19,
   "metadata": {},
   "outputs": [
    {
     "data": {
      "text/html": [
       "<table border=\"1\">\n",
       "<tr>\n",
       "<td>length</td>\n",
       "<td style=\"text-align:left\"><font face=\"monospace\">&nbsp;&nbsp;&nbsp;&nbsp;&nbsp;&nbsp;&nbsp;150.000&nbsp;mm&nbsp;(Distance)</font>\n",
       "</td>\n",
       "</tr>\n",
       "<tr>\n",
       "<td>width</td>\n",
       "<td style=\"text-align:left\"><font face=\"monospace\">&nbsp;&nbsp;&nbsp;&nbsp;&nbsp;&nbsp;&nbsp;&nbsp;50.000&nbsp;mm&nbsp;(Distance)</font>\n",
       "</td>\n",
       "</tr>\n",
       "<tr>\n",
       "<td>hight</td>\n",
       "<td style=\"text-align:left\"><font face=\"monospace\">&nbsp;&nbsp;&nbsp;&nbsp;&nbsp;&nbsp;&nbsp;&nbsp;75.000&nbsp;mm&nbsp;(Distance)</font>\n",
       "</td>\n",
       "</tr>\n",
       "</table>\n",
       "</font>\n"
      ],
      "text/plain": [
       "<EngineeringTools.container.Obj at 0x1ef46891ec8>"
      ]
     },
     "execution_count": 19,
     "metadata": {},
     "output_type": "execute_result"
    }
   ],
   "source": [
    "data = ET.Obj()\n",
    "data.length = ET.Distance(150, 'mm')\n",
    "data.width = ET.Distance(50, 'mm')\n",
    "data.hight = ET.Distance(75, 'mm')\n",
    "data"
   ]
  },
  {
   "cell_type": "code",
   "execution_count": 20,
   "metadata": {},
   "outputs": [
    {
     "data": {
      "text/html": [
       "<font face=\"monospace\">&nbsp;&nbsp;&nbsp;&nbsp;&nbsp;&nbsp;&nbsp;562&nbsp;&nbsp;&nbsp;&nbsp;&nbsp;cm3&nbsp;(Volume)</font>\n"
      ],
      "text/plain": [
       "quantities.Volume(value=0.0005625, unit='m3', displayUnit='cm3')"
      ]
     },
     "execution_count": 20,
     "metadata": {},
     "output_type": "execute_result"
    }
   ],
   "source": [
    "ET.Volume(data.length * data.width * data.hight)"
   ]
  },
  {
   "cell_type": "code",
   "execution_count": 21,
   "metadata": {},
   "outputs": [
    {
     "ename": "EngineeringTools_uval_Error",
     "evalue": "units do not match: {'meter': Fraction(3, 1)} != {'meter': 2}",
     "output_type": "error",
     "traceback": [
      "\u001b[1;31m---------------------------------------------------------------------------\u001b[0m",
      "\u001b[1;31mEngineeringTools_uval_Error\u001b[0m               Traceback (most recent call last)",
      "\u001b[1;32m<ipython-input-21-94cd4f1adc9d>\u001b[0m in \u001b[0;36m<module>\u001b[1;34m\u001b[0m\n\u001b[1;32m----> 1\u001b[1;33m \u001b[0mET\u001b[0m\u001b[1;33m.\u001b[0m\u001b[0mArea\u001b[0m\u001b[1;33m(\u001b[0m\u001b[0mdata\u001b[0m\u001b[1;33m.\u001b[0m\u001b[0mlength\u001b[0m \u001b[1;33m*\u001b[0m \u001b[0mdata\u001b[0m\u001b[1;33m.\u001b[0m\u001b[0mwidth\u001b[0m \u001b[1;33m*\u001b[0m \u001b[0mdata\u001b[0m\u001b[1;33m.\u001b[0m\u001b[0mhight\u001b[0m\u001b[1;33m)\u001b[0m  \u001b[1;31m# shall fail\u001b[0m\u001b[1;33m\u001b[0m\u001b[1;33m\u001b[0m\u001b[0m\n\u001b[0m",
      "\u001b[1;32mC:/data/GitHub/EngineeringTools/EngineeringToolsPy/src\\EngineeringTools\\quantities\\quantitiesbase.py\u001b[0m in \u001b[0;36m__init__\u001b[1;34m(self, value, unit, displayUnit, typecast)\u001b[0m\n\u001b[0;32m    243\u001b[0m         \u001b[1;32melif\u001b[0m \u001b[0misinstance\u001b[0m\u001b[1;33m(\u001b[0m\u001b[0mvalue\u001b[0m\u001b[1;33m,\u001b[0m \u001b[0mUVal\u001b[0m\u001b[1;33m)\u001b[0m\u001b[1;33m:\u001b[0m\u001b[1;33m\u001b[0m\u001b[1;33m\u001b[0m\u001b[0m\n\u001b[0;32m    244\u001b[0m             \u001b[1;32mif\u001b[0m \u001b[0munit\u001b[0m \u001b[1;32mis\u001b[0m \u001b[1;32mNone\u001b[0m\u001b[1;33m:\u001b[0m\u001b[1;33m\u001b[0m\u001b[1;33m\u001b[0m\u001b[0m\n\u001b[1;32m--> 245\u001b[1;33m                 \u001b[0mvalue\u001b[0m\u001b[1;33m.\u001b[0m\u001b[0mcheck_units\u001b[0m\u001b[1;33m(\u001b[0m\u001b[0mself\u001b[0m\u001b[1;33m.\u001b[0m\u001b[0m_uval_units\u001b[0m\u001b[1;33m)\u001b[0m\u001b[1;33m\u001b[0m\u001b[1;33m\u001b[0m\u001b[0m\n\u001b[0m\u001b[0;32m    246\u001b[0m                 \u001b[0mself\u001b[0m\u001b[1;33m.\u001b[0m\u001b[0m_value\u001b[0m \u001b[1;33m=\u001b[0m \u001b[0mself\u001b[0m\u001b[1;33m.\u001b[0m\u001b[0mconvert2iso\u001b[0m\u001b[1;33m(\u001b[0m\u001b[0mvalue\u001b[0m\u001b[1;33m.\u001b[0m\u001b[0mget_value\u001b[0m\u001b[1;33m(\u001b[0m\u001b[1;33m)\u001b[0m\u001b[1;33m,\u001b[0m \u001b[0mself\u001b[0m\u001b[1;33m.\u001b[0m\u001b[0m_isoUnit\u001b[0m\u001b[1;33m,\u001b[0m \u001b[0mtypecast\u001b[0m\u001b[1;33m=\u001b[0m\u001b[1;32mTrue\u001b[0m\u001b[1;33m)\u001b[0m\u001b[1;33m\u001b[0m\u001b[1;33m\u001b[0m\u001b[0m\n\u001b[0;32m    247\u001b[0m             \u001b[1;32melse\u001b[0m\u001b[1;33m:\u001b[0m\u001b[1;33m\u001b[0m\u001b[1;33m\u001b[0m\u001b[0m\n",
      "\u001b[1;32mC:/data/GitHub/EngineeringTools/EngineeringToolsPy/src\\EngineeringTools\\uval.py\u001b[0m in \u001b[0;36mcheck_units\u001b[1;34m(self, units)\u001b[0m\n\u001b[0;32m    458\u001b[0m         \u001b[1;32mfor\u001b[0m \u001b[0munitname\u001b[0m \u001b[1;32min\u001b[0m \u001b[0mfrozenset\u001b[0m\u001b[1;33m(\u001b[0m\u001b[0mlist\u001b[0m\u001b[1;33m(\u001b[0m\u001b[0mself\u001b[0m\u001b[1;33m.\u001b[0m\u001b[0m_units\u001b[0m\u001b[1;33m)\u001b[0m \u001b[1;33m+\u001b[0m \u001b[0mlist\u001b[0m\u001b[1;33m(\u001b[0m\u001b[0munits\u001b[0m\u001b[1;33m)\u001b[0m\u001b[1;33m)\u001b[0m\u001b[1;33m:\u001b[0m\u001b[1;33m\u001b[0m\u001b[1;33m\u001b[0m\u001b[0m\n\u001b[0;32m    459\u001b[0m             \u001b[1;32mif\u001b[0m \u001b[0munits\u001b[0m\u001b[1;33m.\u001b[0m\u001b[0mget\u001b[0m\u001b[1;33m(\u001b[0m\u001b[0munitname\u001b[0m\u001b[1;33m,\u001b[0m \u001b[1;36m0\u001b[0m\u001b[1;33m)\u001b[0m \u001b[1;33m!=\u001b[0m \u001b[0mself\u001b[0m\u001b[1;33m.\u001b[0m\u001b[0m_units\u001b[0m\u001b[1;33m.\u001b[0m\u001b[0mget\u001b[0m\u001b[1;33m(\u001b[0m\u001b[0munitname\u001b[0m\u001b[1;33m,\u001b[0m \u001b[1;36m0\u001b[0m\u001b[1;33m)\u001b[0m\u001b[1;33m:\u001b[0m\u001b[1;33m\u001b[0m\u001b[1;33m\u001b[0m\u001b[0m\n\u001b[1;32m--> 460\u001b[1;33m                 \u001b[1;32mraise\u001b[0m \u001b[0mEngineeringTools_uval_Error\u001b[0m\u001b[1;33m(\u001b[0m\u001b[1;34m'units do not match: %s != %s'\u001b[0m \u001b[1;33m%\u001b[0m \u001b[1;33m(\u001b[0m\u001b[0mself\u001b[0m\u001b[1;33m.\u001b[0m\u001b[0m_repr_units\u001b[0m\u001b[1;33m(\u001b[0m\u001b[1;33m)\u001b[0m\u001b[1;33m,\u001b[0m \u001b[0mself\u001b[0m\u001b[1;33m.\u001b[0m\u001b[0m_repr_units\u001b[0m\u001b[1;33m(\u001b[0m\u001b[0munits\u001b[0m\u001b[1;33m)\u001b[0m\u001b[1;33m)\u001b[0m\u001b[1;33m)\u001b[0m\u001b[1;33m\u001b[0m\u001b[1;33m\u001b[0m\u001b[0m\n\u001b[0m\u001b[0;32m    461\u001b[0m \u001b[1;33m\u001b[0m\u001b[0m\n\u001b[0;32m    462\u001b[0m \u001b[1;33m\u001b[0m\u001b[0m\n",
      "\u001b[1;31mEngineeringTools_uval_Error\u001b[0m: units do not match: {'meter': Fraction(3, 1)} != {'meter': 2}"
     ]
    }
   ],
   "source": [
    "ET.Area(data.length * data.width * data.hight)  # shall fail"
   ]
  },
  {
   "cell_type": "code",
   "execution_count": 22,
   "metadata": {},
   "outputs": [
    {
     "data": {
      "text/html": [
       "<font face=\"monospace\">&nbsp;&nbsp;&nbsp;&nbsp;&nbsp;7&nbsp;500&nbsp;&nbsp;&nbsp;&nbsp;&nbsp;mm^2&nbsp;(Area)</font>\n"
      ],
      "text/plain": [
       "quantities.Area(value=0.0075, unit='m2', displayUnit='mm^2')"
      ]
     },
     "execution_count": 22,
     "metadata": {},
     "output_type": "execute_result"
    }
   ],
   "source": [
    "A = ET.Area(data.length * data.width)\n",
    "A"
   ]
  },
  {
   "cell_type": "code",
   "execution_count": 23,
   "metadata": {},
   "outputs": [
    {
     "data": {
      "text/html": [
       "<font face=\"monospace\">&nbsp;&nbsp;&nbsp;&nbsp;&nbsp;&nbsp;&nbsp;&nbsp;86.603&nbsp;mm&nbsp;(Distance)</font>\n"
      ],
      "text/plain": [
       "quantities.Distance(value=0.08660254037844387, unit='m', displayUnit='mm')"
      ]
     },
     "execution_count": 23,
     "metadata": {},
     "output_type": "execute_result"
    }
   ],
   "source": [
    "ET.Distance(ET.sqrt(A))"
   ]
  },
  {
   "cell_type": "code",
   "execution_count": null,
   "metadata": {},
   "outputs": [],
   "source": []
  }
 ],
 "metadata": {
  "anaconda-cloud": {},
  "kernelspec": {
   "display_name": "Python 3",
   "language": "python",
   "name": "python3"
  },
  "language_info": {
   "codemirror_mode": {
    "name": "ipython",
    "version": 3
   },
   "file_extension": ".py",
   "mimetype": "text/x-python",
   "name": "python",
   "nbconvert_exporter": "python",
   "pygments_lexer": "ipython3",
   "version": "3.7.6"
  },
  "toc": {
   "base_numbering": 1,
   "nav_menu": {
    "height": "12px",
    "width": "252px"
   },
   "number_sections": true,
   "sideBar": true,
   "skip_h1_title": false,
   "title_cell": "Table of Contents",
   "title_sidebar": "Contents",
   "toc_cell": false,
   "toc_position": {},
   "toc_section_display": "block",
   "toc_window_display": false
  },
  "varInspector": {
   "cols": {
    "lenName": 16,
    "lenType": 16,
    "lenVar": 40
   },
   "kernels_config": {
    "python": {
     "delete_cmd_postfix": "",
     "delete_cmd_prefix": "del ",
     "library": "var_list.py",
     "varRefreshCmd": "print(var_dic_list())"
    },
    "r": {
     "delete_cmd_postfix": ") ",
     "delete_cmd_prefix": "rm(",
     "library": "var_list.r",
     "varRefreshCmd": "cat(var_dic_list()) "
    }
   },
   "types_to_exclude": [
    "module",
    "function",
    "builtin_function_or_method",
    "instance",
    "_Feature"
   ],
   "window_display": false
  }
 },
 "nbformat": 4,
 "nbformat_minor": 1
}
