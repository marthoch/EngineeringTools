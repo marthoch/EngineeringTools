{
 "cells": [
  {
   "cell_type": "code",
   "execution_count": 2,
   "metadata": {},
   "outputs": [],
   "source": [
    "import sys\n",
    "sys.path.insert(0, r'C:\\data\\GitHub\\EngineeringTools\\EngineeringToolsPy\\src')"
   ]
  },
  {
   "cell_type": "code",
   "execution_count": 3,
   "metadata": {},
   "outputs": [
    {
     "data": {
      "text/plain": [
       "'3.7.6 (default, Jan  8 2020, 20:23:39) [MSC v.1916 64 bit (AMD64)]'"
      ]
     },
     "execution_count": 3,
     "metadata": {},
     "output_type": "execute_result"
    }
   ],
   "source": [
    "sys.version"
   ]
  },
  {
   "cell_type": "code",
   "execution_count": 5,
   "metadata": {},
   "outputs": [],
   "source": [
    "import EngineeringTools as ET\n",
    "#import EngineeringTools.quantities as ETQ\n",
    "import EngineeringTools.mechanical_eng.material as ETMmat\n",
    "ET.Quantity.set_displayUnitSystem('mechanicalEngineering')"
   ]
  },
  {
   "cell_type": "markdown",
   "metadata": {},
   "source": [
    "# "
   ]
  },
  {
   "cell_type": "code",
   "execution_count": 6,
   "metadata": {},
   "outputs": [
    {
     "data": {
      "text/html": [
       "<h2>Steel: 34CrNiMo6</h2>\n",
       "<table border=\"1\">\n",
       "\n",
       "\n",
       "    <tr>\n",
       "        <td colspan=\"2\" style=\"text-align:left\">EngineeringTools.mechanical_eng.material.Steel_34CrNiMo6</td>\n",
       "    </tr>\n",
       "    <tr>\n",
       "        <td>identifiers:</td>\n",
       "        <td style=\"text-align:left\">['34CrNiMo6', '1.6582', 'Sweden SS 2541']</td>\n",
       "    </tr>\n",
       "    <tr>\n",
       "        <td>density:</td>\n",
       "        <td style=\"text-align:left\"><font face=\"monospace\">&nbsp;&nbsp;&nbsp;&nbsp;&nbsp;7&nbsp;800&nbsp;&nbsp;&nbsp;&nbsp;&nbsp;kg/m3&nbsp;(Density)</font>\n",
       "</td>\n",
       "    </tr>\n",
       "    <tr>\n",
       "        <td>young's modulus:</td>\n",
       "        <td style=\"text-align:left\"><font face=\"monospace\">&nbsp;&nbsp;&nbsp;210&nbsp;000&nbsp;&nbsp;&nbsp;&nbsp;&nbsp;N/mm^2&nbsp;(Stress)</font>\n",
       "</td>\n",
       "    </tr>    \n",
       "</table>\n"
      ],
      "text/plain": [
       "<EngineeringTools.mechanical_eng.material.Steel_34CrNiMo6 at 0x229c96753c8>"
      ]
     },
     "execution_count": 6,
     "metadata": {},
     "output_type": "execute_result"
    }
   ],
   "source": [
    "m = ETMmat.Steel_34CrNiMo6()\n",
    "m"
   ]
  },
  {
   "cell_type": "code",
   "execution_count": 7,
   "metadata": {},
   "outputs": [
    {
     "name": "stdout",
     "output_type": "stream",
     "text": [
      "EngineeringTools.mechanical_eng.material.Steel_34CrNiMo6\n",
      "name:           Steel: 34CrNiMo6\n",
      "identifiers:    ['34CrNiMo6', '1.6582', 'Sweden SS 2541']\n",
      "density:             7 800     kg/m3 (Density)\n",
      "youngs modulus:    210 000     N/mm^2 (Stress)  \n",
      "\n"
     ]
    }
   ],
   "source": [
    "print(m)"
   ]
  },
  {
   "cell_type": "code",
   "execution_count": 8,
   "metadata": {},
   "outputs": [
    {
     "data": {
      "text/html": [
       "<font face=\"monospace\">&nbsp;&nbsp;&nbsp;210&nbsp;000&nbsp;&nbsp;&nbsp;&nbsp;&nbsp;N/mm^2&nbsp;(Stress)</font>\n"
      ],
      "text/plain": [
       "quantities.Stress(value=210000000000.0, unit='Pa', displayUnit='N/mm^2')"
      ]
     },
     "execution_count": 8,
     "metadata": {},
     "output_type": "execute_result"
    }
   ],
   "source": [
    "m.youngs_modulus"
   ]
  },
  {
   "cell_type": "code",
   "execution_count": 9,
   "metadata": {},
   "outputs": [
    {
     "data": {
      "text/html": [
       "<font face=\"monospace\">&nbsp;&nbsp;&nbsp;&nbsp;&nbsp;7&nbsp;800&nbsp;&nbsp;&nbsp;&nbsp;&nbsp;kg/m3&nbsp;(Density)</font>\n"
      ],
      "text/plain": [
       "quantities.Density(value=7800.0, unit='kg/m3', displayUnit='kg/m3')"
      ]
     },
     "execution_count": 9,
     "metadata": {},
     "output_type": "execute_result"
    }
   ],
   "source": [
    "m.density"
   ]
  },
  {
   "cell_type": "code",
   "execution_count": 10,
   "metadata": {},
   "outputs": [
    {
     "data": {
      "text/html": [
       "<font face=\"monospace\">&nbsp;&nbsp;&nbsp;&nbsp;&nbsp;1&nbsp;000&nbsp;&nbsp;&nbsp;&nbsp;&nbsp;N/mm^2&nbsp;(Stress)</font>\n"
      ],
      "text/plain": [
       "quantities.Stress(value=1000000000.0, unit='Pa', displayUnit='N/mm^2')"
      ]
     },
     "execution_count": 10,
     "metadata": {},
     "output_type": "execute_result"
    }
   ],
   "source": [
    "m.Rp()"
   ]
  },
  {
   "cell_type": "code",
   "execution_count": null,
   "metadata": {},
   "outputs": [],
   "source": []
  }
 ],
 "metadata": {
  "anaconda-cloud": {},
  "kernelspec": {
   "display_name": "Python 3",
   "language": "python",
   "name": "python3"
  },
  "language_info": {
   "codemirror_mode": {
    "name": "ipython",
    "version": 3
   },
   "file_extension": ".py",
   "mimetype": "text/x-python",
   "name": "python",
   "nbconvert_exporter": "python",
   "pygments_lexer": "ipython3",
   "version": "3.7.6"
  },
  "toc": {
   "base_numbering": 1,
   "nav_menu": {
    "height": "12px",
    "width": "252px"
   },
   "number_sections": true,
   "sideBar": true,
   "skip_h1_title": false,
   "title_cell": "Table of Contents",
   "title_sidebar": "Contents",
   "toc_cell": false,
   "toc_position": {},
   "toc_section_display": "block",
   "toc_window_display": false
  },
  "varInspector": {
   "cols": {
    "lenName": 16,
    "lenType": 16,
    "lenVar": 40
   },
   "kernels_config": {
    "python": {
     "delete_cmd_postfix": "",
     "delete_cmd_prefix": "del ",
     "library": "var_list.py",
     "varRefreshCmd": "print(var_dic_list())"
    },
    "r": {
     "delete_cmd_postfix": ") ",
     "delete_cmd_prefix": "rm(",
     "library": "var_list.r",
     "varRefreshCmd": "cat(var_dic_list()) "
    }
   },
   "types_to_exclude": [
    "module",
    "function",
    "builtin_function_or_method",
    "instance",
    "_Feature"
   ],
   "window_display": false
  }
 },
 "nbformat": 4,
 "nbformat_minor": 1
}
