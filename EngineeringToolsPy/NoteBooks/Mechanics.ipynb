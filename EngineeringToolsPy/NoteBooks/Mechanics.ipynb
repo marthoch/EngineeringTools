{
 "cells": [
  {
   "cell_type": "code",
   "execution_count": 2,
   "metadata": {},
   "outputs": [],
   "source": [
    "import sys\n",
    "sys.path.insert(0, r'C:\\data\\GitHub\\EngineeringTools\\EngineeringToolsPy\\src')"
   ]
  },
  {
   "cell_type": "code",
   "execution_count": 3,
   "metadata": {},
   "outputs": [
    {
     "data": {
      "text/plain": [
       "'3.7.6 (default, Jan  8 2020, 20:23:39) [MSC v.1916 64 bit (AMD64)]'"
      ]
     },
     "execution_count": 3,
     "metadata": {},
     "output_type": "execute_result"
    }
   ],
   "source": [
    "sys.version"
   ]
  },
  {
   "cell_type": "code",
   "execution_count": 4,
   "metadata": {},
   "outputs": [],
   "source": [
    "import EngineeringTools as ET\n",
    "import EngineeringTools.quantities as ETQ\n",
    "import EngineeringTools.mechanical_eng.beamsection as ETMBS\n",
    "import EngineeringTools.mechanical_eng.material as ETMmat\n",
    "\n",
    "ETQ.Quantity.set_displayUnitSystem('mechanicalEngineering')"
   ]
  },
  {
   "cell_type": "markdown",
   "metadata": {},
   "source": [
    "# BeamSection"
   ]
  },
  {
   "cell_type": "code",
   "execution_count": 5,
   "metadata": {},
   "outputs": [
    {
     "data": {
      "text/html": [
       "BeamSection_Pipe(D=       100.000 mm (Distance), d=        90.000 mm (Distance))"
      ],
      "text/plain": [
       "BeamSection_Pipe(D=       100.000 mm (Distance), d=        90.000 mm (Distance))"
      ]
     },
     "execution_count": 5,
     "metadata": {},
     "output_type": "execute_result"
    }
   ],
   "source": [
    "pipe = ETMBS.BeamSection_Pipe(D=ETQ.Distance(100,'mm'), thickness=ETQ.Distance(5,'mm'))\n",
    "pipe"
   ]
  },
  {
   "cell_type": "code",
   "execution_count": 6,
   "metadata": {},
   "outputs": [
    {
     "data": {
      "text/html": [
       "BeamSection_Rectangle(Width=       100.000 mm (Distance), Hight=        50.000 mm (Distance), width=        90.000 mm (Distance), hight=        40.000 mm (Distance))"
      ],
      "text/plain": [
       "BeamSection_Rectangle(Width=       100.000 mm (Distance), Hight=        50.000 mm (Distance), width=        90.000 mm (Distance), hight=        40.000 mm (Distance))"
      ]
     },
     "execution_count": 6,
     "metadata": {},
     "output_type": "execute_result"
    }
   ],
   "source": [
    "rpipe = ETMBS.BeamSection_Rectangle(Width=ETQ.Distance(100,'mm'), Hight=ETQ.Distance(50,'mm'), thickness=ETQ.Distance(5,'mm'))\n",
    "rpipe"
   ]
  },
  {
   "cell_type": "code",
   "execution_count": 7,
   "metadata": {},
   "outputs": [
    {
     "data": {
      "text/html": [
       "<font face=\"monospace\">&nbsp;&nbsp;&nbsp;&nbsp;&nbsp;1&nbsp;490&nbsp;&nbsp;&nbsp;&nbsp;&nbsp;mm^2&nbsp;(Area)</font>\n"
      ],
      "text/plain": [
       "quantities.Area(value=0.0014922565104551523, unit='m2', displayUnit='mm^2')"
      ]
     },
     "execution_count": 7,
     "metadata": {},
     "output_type": "execute_result"
    }
   ],
   "source": [
    "pipe.A"
   ]
  },
  {
   "cell_type": "code",
   "execution_count": 8,
   "metadata": {},
   "outputs": [
    {
     "data": {
      "text/html": [
       "<font face=\"monospace\">&nbsp;&nbsp;&nbsp;&nbsp;&nbsp;1&nbsp;400&nbsp;&nbsp;&nbsp;&nbsp;&nbsp;mm^2&nbsp;(Area)</font>\n"
      ],
      "text/plain": [
       "quantities.Area(value=0.0014000000000000006, unit='m2', displayUnit='mm^2')"
      ]
     },
     "execution_count": 8,
     "metadata": {},
     "output_type": "execute_result"
    }
   ],
   "source": [
    "rpipe.A"
   ]
  },
  {
   "cell_type": "code",
   "execution_count": 9,
   "metadata": {},
   "outputs": [
    {
     "data": {
      "text/html": [
       "<font face=\"monospace\">&nbsp;&nbsp;&nbsp;&nbsp;&nbsp;&nbsp;&nbsp;&nbsp;33.8&nbsp;&nbsp;&nbsp;cm^3&nbsp;(SectionModulus)</font>\n"
      ],
      "text/plain": [
       "quantities.SectionModulus(value=3.3762303549047795e-05, unit='m^3', displayUnit='cm^3')"
      ]
     },
     "execution_count": 9,
     "metadata": {},
     "output_type": "execute_result"
    }
   ],
   "source": [
    "pipe.Wx"
   ]
  },
  {
   "cell_type": "markdown",
   "metadata": {},
   "source": [
    "# beam with force"
   ]
  },
  {
   "cell_type": "code",
   "execution_count": 10,
   "metadata": {},
   "outputs": [
    {
     "data": {
      "text/html": [
       "<table border=\"1\">\n",
       "<tr>\n",
       "<td>length</td>\n",
       "<td style=\"text-align:left\"><font face=\"monospace\">&nbsp;&nbsp;&nbsp;&nbsp;&nbsp;4&nbsp;000.000&nbsp;mm&nbsp;(Distance)</font>\n",
       "</td>\n",
       "</tr>\n",
       "<tr>\n",
       "<td>section</td>\n",
       "<td>BeamSection_Rectangle(Width=       100.000 mm (Distance), Hight=        50.000 mm (Distance), width=        80.000 mm (Distance), hight=        30.000 mm (Distance))</td>\n",
       "</tr>\n",
       "<tr>\n",
       "<td>load</td>\n",
       "<td style=\"text-align:left\"><font face=\"monospace\">&nbsp;&nbsp;&nbsp;&nbsp;&nbsp;&nbsp;&nbsp;&nbsp;&nbsp;1.00&nbsp;&nbsp;kN&nbsp;(Force)</font>\n",
       "</td>\n",
       "</tr>\n",
       "<tr>\n",
       "<td>material</td>\n",
       "<td>EngineeringTools.mechanical_eng.material.Steel_S355JR<br>name:           Steel: S355JR<br>identifiers:    ['S355JR', '1.0045', 'St52-3', 'Sweden SS 2132-01']<br>density:             7 800     kg/m3 (Density)<br>youngs modulus:    210 000     N/mm^2 (Stress)  <br></td>\n",
       "</tr>\n",
       "</table>\n",
       "</font>\n"
      ],
      "text/plain": [
       "<EngineeringTools.container.Obj at 0x2343f6c70c8>"
      ]
     },
     "execution_count": 10,
     "metadata": {},
     "output_type": "execute_result"
    }
   ],
   "source": [
    "beam = ET.Obj()\n",
    "beam.length = ETQ.Distance(4, 'm')\n",
    "beam.section = ETMBS.BeamSection_Rectangle(Width=ETQ.Distance(100,'mm'), Hight=ETQ.Distance(50,'mm'), thickness=ETQ.Distance(10,'mm'))\n",
    "beam.load = ETQ.Force(1, 'kN')\n",
    "beam.material = ETMmat.Steel_S355JR()\n",
    "beam"
   ]
  },
  {
   "cell_type": "code",
   "execution_count": 11,
   "metadata": {},
   "outputs": [
    {
     "data": {
      "text/html": [
       "<font face=\"monospace\">&nbsp;&nbsp;&nbsp;&nbsp;&nbsp;1&nbsp;000&nbsp;&nbsp;&nbsp;&nbsp;&nbsp;N.m&nbsp;(BendingMoment)</font>\n"
      ],
      "text/plain": [
       "quantities.BendingMoment(value=1000.0, unit='N.m', displayUnit='N.m')"
      ]
     },
     "execution_count": 11,
     "metadata": {},
     "output_type": "execute_result"
    }
   ],
   "source": [
    "M = ETQ.BendingMoment(beam.load/2 * beam.length/2)\n",
    "M"
   ]
  },
  {
   "cell_type": "code",
   "execution_count": 12,
   "metadata": {},
   "outputs": [
    {
     "data": {
      "text/html": [
       "<font face=\"monospace\">&nbsp;&nbsp;&nbsp;&nbsp;&nbsp;&nbsp;&nbsp;&nbsp;29.0&nbsp;&nbsp;&nbsp;N/mm^2&nbsp;(Stress)</font>\n"
      ],
      "text/plain": [
       "quantities.Stress(value=29013539.65183752, unit='Pa', displayUnit='N/mm^2')"
      ]
     },
     "execution_count": 12,
     "metadata": {},
     "output_type": "execute_result"
    }
   ],
   "source": [
    "stress = ETQ.Stress(M/beam.section.Wbx)\n",
    "stress"
   ]
  },
  {
   "cell_type": "code",
   "execution_count": 13,
   "metadata": {},
   "outputs": [
    {
     "data": {
      "text/html": [
       "<font face=\"monospace\">&nbsp;&nbsp;&nbsp;&nbsp;&nbsp;&nbsp;&nbsp;&nbsp;&nbsp;7.369&nbsp;mm&nbsp;(Distance)</font>\n"
      ],
      "text/plain": [
       "quantities.Distance(value=0.007368518006815878, unit='m', displayUnit='mm')"
      ]
     },
     "execution_count": 13,
     "metadata": {},
     "output_type": "execute_result"
    }
   ],
   "source": [
    "deflection = ETQ.Distance(beam.load * beam.length**3 /(48 * beam.material.youngs_modulus * beam.section.Ix))\n",
    "deflection"
   ]
  },
  {
   "cell_type": "code",
   "execution_count": null,
   "metadata": {},
   "outputs": [],
   "source": []
  },
  {
   "cell_type": "code",
   "execution_count": 14,
   "metadata": {},
   "outputs": [
    {
     "data": {
      "text/html": [
       "<font face=\"monospace\">&nbsp;&nbsp;&nbsp;&nbsp;&nbsp;&nbsp;&nbsp;&nbsp;20.0&nbsp;&nbsp;&nbsp;kN.cm&nbsp;(BendingMoment)</font>\n"
      ],
      "text/plain": [
       "quantities.BendingMoment(value=200.0, unit='N.m', displayUnit='kN.cm')"
      ]
     },
     "execution_count": 14,
     "metadata": {},
     "output_type": "execute_result"
    }
   ],
   "source": [
    "b = ETQ.BendingMoment(1000.0*0.200, 'N.m', 'kN.cm')\n",
    "b"
   ]
  },
  {
   "cell_type": "code",
   "execution_count": null,
   "metadata": {},
   "outputs": [],
   "source": []
  },
  {
   "cell_type": "code",
   "execution_count": null,
   "metadata": {},
   "outputs": [],
   "source": []
  }
 ],
 "metadata": {
  "anaconda-cloud": {},
  "kernelspec": {
   "display_name": "Python 3",
   "language": "python",
   "name": "python3"
  },
  "language_info": {
   "codemirror_mode": {
    "name": "ipython",
    "version": 3
   },
   "file_extension": ".py",
   "mimetype": "text/x-python",
   "name": "python",
   "nbconvert_exporter": "python",
   "pygments_lexer": "ipython3",
   "version": "3.7.6"
  },
  "toc": {
   "base_numbering": 1,
   "nav_menu": {
    "height": "12px",
    "width": "252px"
   },
   "number_sections": true,
   "sideBar": true,
   "skip_h1_title": false,
   "title_cell": "Table of Contents",
   "title_sidebar": "Contents",
   "toc_cell": false,
   "toc_position": {},
   "toc_section_display": "block",
   "toc_window_display": false
  },
  "varInspector": {
   "cols": {
    "lenName": 16,
    "lenType": 16,
    "lenVar": 40
   },
   "kernels_config": {
    "python": {
     "delete_cmd_postfix": "",
     "delete_cmd_prefix": "del ",
     "library": "var_list.py",
     "varRefreshCmd": "print(var_dic_list())"
    },
    "r": {
     "delete_cmd_postfix": ") ",
     "delete_cmd_prefix": "rm(",
     "library": "var_list.r",
     "varRefreshCmd": "cat(var_dic_list()) "
    }
   },
   "types_to_exclude": [
    "module",
    "function",
    "builtin_function_or_method",
    "instance",
    "_Feature"
   ],
   "window_display": false
  }
 },
 "nbformat": 4,
 "nbformat_minor": 1
}
