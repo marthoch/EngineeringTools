{
 "cells": [
  {
   "cell_type": "code",
   "execution_count": 1,
   "metadata": {},
   "outputs": [],
   "source": [
    "import logging\n",
    "#logging.basicConfig(level=logging.DEBUG)"
   ]
  },
  {
   "cell_type": "code",
   "execution_count": 2,
   "metadata": {},
   "outputs": [],
   "source": [
    "import sys\n",
    "sys.path.insert(0, r'C:\\data\\GitHub\\EngineeringTools\\EngineeringToolsPy\\src')\n",
    "\n",
    "import EngineeringTools as ET\n",
    "import EngineeringTools.quantities as ETQ\n",
    "ETQ.Quantity.set_displayUnitSystem('mechanicalEngineering')"
   ]
  },
  {
   "cell_type": "code",
   "execution_count": 3,
   "metadata": {},
   "outputs": [
    {
     "name": "stderr",
     "output_type": "stream",
     "text": [
      "Attention: update currency rats!  >>> Moneyupdate_currency_rate(currency, rate_EURO)\n"
     ]
    }
   ],
   "source": [
    "from EngineeringTools.quantities import money as ETQM"
   ]
  },
  {
   "cell_type": "code",
   "execution_count": 4,
   "metadata": {
    "scrolled": true
   },
   "outputs": [
    {
     "data": {
      "text/plain": [
       "{EngineeringTools.quantities.electrical.Current,\n",
       " EngineeringTools.quantities.electrical.Inductance,\n",
       " EngineeringTools.quantities.electrical.Resistance,\n",
       " EngineeringTools.quantities.electrical.Voltage,\n",
       " EngineeringTools.quantities.mechanics.Acceleration,\n",
       " EngineeringTools.quantities.mechanics.Angle,\n",
       " EngineeringTools.quantities.mechanics.Area,\n",
       " EngineeringTools.quantities.mechanics.BendingMoment,\n",
       " EngineeringTools.quantities.mechanics.Boolean,\n",
       " EngineeringTools.quantities.mechanics.Density,\n",
       " EngineeringTools.quantities.mechanics.Distance,\n",
       " EngineeringTools.quantities.mechanics.Energie,\n",
       " EngineeringTools.quantities.mechanics.Flowrate,\n",
       " EngineeringTools.quantities.mechanics.FlowrateMass,\n",
       " EngineeringTools.quantities.mechanics.Force,\n",
       " EngineeringTools.quantities.mechanics.Frequency,\n",
       " EngineeringTools.quantities.mechanics.Mass,\n",
       " EngineeringTools.quantities.mechanics.MomentOfAreaFirst,\n",
       " EngineeringTools.quantities.mechanics.MomentOfAreaSecond,\n",
       " EngineeringTools.quantities.mechanics.MomentOfInertiaOfMass,\n",
       " EngineeringTools.quantities.mechanics.Number,\n",
       " EngineeringTools.quantities.mechanics.Power,\n",
       " EngineeringTools.quantities.mechanics.Pressure,\n",
       " EngineeringTools.quantities.mechanics.Scalar,\n",
       " EngineeringTools.quantities.mechanics.SectionModulus,\n",
       " EngineeringTools.quantities.mechanics.Speed,\n",
       " EngineeringTools.quantities.mechanics.SpringConstant,\n",
       " EngineeringTools.quantities.mechanics.SpringConstantTorsion,\n",
       " EngineeringTools.quantities.mechanics.Stress,\n",
       " EngineeringTools.quantities.mechanics.TemperatureAbsolute,\n",
       " EngineeringTools.quantities.mechanics.TemperatureDifferential,\n",
       " EngineeringTools.quantities.mechanics.Text,\n",
       " EngineeringTools.quantities.mechanics.Time,\n",
       " EngineeringTools.quantities.mechanics.Torque,\n",
       " EngineeringTools.quantities.mechanics.Velocity,\n",
       " EngineeringTools.quantities.mechanics.VelocityAngular,\n",
       " EngineeringTools.quantities.mechanics.ViscosityDynamic,\n",
       " EngineeringTools.quantities.mechanics.ViscosityKinematic,\n",
       " EngineeringTools.quantities.mechanics.Volume,\n",
       " EngineeringTools.quantities.money.Money,\n",
       " EngineeringTools.quantities.money.MoneyPerTime,\n",
       " EngineeringTools.quantities.quantitiesbase.QuantityBoolean,\n",
       " EngineeringTools.quantities.quantitiesbase.QuantityDecimal,\n",
       " EngineeringTools.quantities.quantitiesbase.QuantityFloat,\n",
       " EngineeringTools.quantities.quantitiesbase.QuantityFloatOffset,\n",
       " EngineeringTools.quantities.quantitiesbase.QuantityInt,\n",
       " EngineeringTools.quantities.quantitiesbase.QuantityNumeric,\n",
       " EngineeringTools.quantities.quantitiesbase.QuantityString}"
      ]
     },
     "execution_count": 4,
     "metadata": {},
     "output_type": "execute_result"
    }
   ],
   "source": [
    "ETQ.get_all_available_quantities()"
   ]
  },
  {
   "cell_type": "code",
   "execution_count": 5,
   "metadata": {},
   "outputs": [
    {
     "data": {
      "text/html": [
       "<font face=\"monospace\">&nbsp;&nbsp;&nbsp;&nbsp;&nbsp;&nbsp;&nbsp;&nbsp;&nbsp;1&nbsp;&nbsp;&nbsp;&nbsp;&nbsp;SEK&nbsp;(Money)</font>\n"
      ],
      "text/plain": [
       "quantities.Money(value=0.1, unit='EURO', displayUnit='SEK')"
      ]
     },
     "execution_count": 5,
     "metadata": {},
     "output_type": "execute_result"
    }
   ],
   "source": [
    "c = ETQM.Money(1, 'SEK')\n",
    "c"
   ]
  },
  {
   "cell_type": "code",
   "execution_count": 6,
   "metadata": {},
   "outputs": [
    {
     "data": {
      "text/html": [
       "<font face=\"monospace\">&nbsp;&nbsp;&nbsp;&nbsp;10&nbsp;000&nbsp;&nbsp;&nbsp;&nbsp;&nbsp;SEK&nbsp;(Money)</font>\n"
      ],
      "text/plain": [
       "quantities.Money(value=1000.0, unit='EURO', displayUnit='SEK')"
      ]
     },
     "execution_count": 6,
     "metadata": {},
     "output_type": "execute_result"
    }
   ],
   "source": [
    "ETQM.Money(10000, 'SEK')"
   ]
  },
  {
   "cell_type": "code",
   "execution_count": 7,
   "metadata": {},
   "outputs": [
    {
     "data": {
      "text/html": [
       "<font face=\"monospace\">&nbsp;&nbsp;&nbsp;&nbsp;&nbsp;3&nbsp;600&nbsp;&nbsp;&nbsp;&nbsp;&nbsp;sec&nbsp;(Time)</font>\n"
      ],
      "text/plain": [
       "quantities.Time(value=3600.0, unit='s', displayUnit='sec')"
      ]
     },
     "execution_count": 7,
     "metadata": {},
     "output_type": "execute_result"
    }
   ],
   "source": [
    "ETQ.Time(1,'h')"
   ]
  },
  {
   "cell_type": "code",
   "execution_count": 8,
   "metadata": {},
   "outputs": [
    {
     "data": {
      "text/html": [
       "<font face=\"monospace\">&nbsp;&nbsp;&nbsp;&nbsp;&nbsp;&nbsp;&nbsp;&nbsp;&nbsp;1&nbsp;&nbsp;&nbsp;&nbsp;&nbsp;SEK/h&nbsp;(MoneyPerTime)</font>\n"
      ],
      "text/plain": [
       "quantities.MoneyPerTime(value=2.777777777777778e-05, unit='EURO/sec', displayUnit='SEK/h')"
      ]
     },
     "execution_count": 8,
     "metadata": {},
     "output_type": "execute_result"
    }
   ],
   "source": [
    "ct = ETQM.MoneyPerTime(1, 'SEK/h')\n",
    "ct"
   ]
  },
  {
   "cell_type": "code",
   "execution_count": null,
   "metadata": {},
   "outputs": [],
   "source": []
  },
  {
   "cell_type": "code",
   "execution_count": null,
   "metadata": {},
   "outputs": [],
   "source": []
  }
 ],
 "metadata": {
  "kernelspec": {
   "display_name": "Python 3",
   "language": "python",
   "name": "python3"
  },
  "language_info": {
   "codemirror_mode": {
    "name": "ipython",
    "version": 3
   },
   "file_extension": ".py",
   "mimetype": "text/x-python",
   "name": "python",
   "nbconvert_exporter": "python",
   "pygments_lexer": "ipython3",
   "version": "3.7.6"
  },
  "toc": {
   "base_numbering": 1,
   "nav_menu": {},
   "number_sections": true,
   "sideBar": true,
   "skip_h1_title": false,
   "title_cell": "Table of Contents",
   "title_sidebar": "Contents",
   "toc_cell": false,
   "toc_position": {},
   "toc_section_display": true,
   "toc_window_display": false
  },
  "varInspector": {
   "cols": {
    "lenName": 16,
    "lenType": 16,
    "lenVar": 40
   },
   "kernels_config": {
    "python": {
     "delete_cmd_postfix": "",
     "delete_cmd_prefix": "del ",
     "library": "var_list.py",
     "varRefreshCmd": "print(var_dic_list())"
    },
    "r": {
     "delete_cmd_postfix": ") ",
     "delete_cmd_prefix": "rm(",
     "library": "var_list.r",
     "varRefreshCmd": "cat(var_dic_list()) "
    }
   },
   "types_to_exclude": [
    "module",
    "function",
    "builtin_function_or_method",
    "instance",
    "_Feature"
   ],
   "window_display": false
  }
 },
 "nbformat": 4,
 "nbformat_minor": 4
}
