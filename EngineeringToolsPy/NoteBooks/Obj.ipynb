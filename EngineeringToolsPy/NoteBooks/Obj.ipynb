{
 "cells": [
  {
   "cell_type": "markdown",
   "metadata": {},
   "source": [
    "# Testing EngineeringTools.container.Obj\n"
   ]
  },
  {
   "cell_type": "code",
   "execution_count": 1,
   "metadata": {},
   "outputs": [],
   "source": [
    "import sys\n",
    "# download form https://github.com/marthoch/EngineeringTools\n",
    "sys.path.insert(0, r'C:\\data\\GitHub\\EngineeringTools\\EngineeringToolsPy\\src')\n",
    "\n",
    "import EngineeringTools as ET\n",
    "import EngineeringTools.quantities as ETQ\n",
    "ETQ.Quantity.set_displayUnitSystem('mechanicalEngineering')\n",
    "#import EngineeringTools.tools as ETtools\n",
    "#import EngineeringTools.special as ETspecial\n",
    "import numpy as np\n",
    "from numpy import r_"
   ]
  },
  {
   "cell_type": "code",
   "execution_count": 2,
   "metadata": {},
   "outputs": [
    {
     "name": "stdout",
     "output_type": "stream",
     "text": [
      "=  =\n"
     ]
    },
    {
     "data": {
      "text/html": [
       "<table border=\"1\">\n",
       "</table>\n",
       "</font>\n"
      ],
      "text/plain": [
       "<EngineeringTools.container.Obj at 0x1d72e1f3e20>"
      ]
     },
     "execution_count": 2,
     "metadata": {},
     "output_type": "execute_result"
    }
   ],
   "source": [
    "o1 = ET.Obj()\n",
    "print('=', str(o1), '=')\n",
    "o1"
   ]
  },
  {
   "cell_type": "code",
   "execution_count": 3,
   "metadata": {},
   "outputs": [
    {
     "name": "stdout",
     "output_type": "stream",
     "text": [
      "= test:  \n",
      " =\n"
     ]
    },
    {
     "data": {
      "text/html": [
       "<h4 style=\"text-align:left\">test </h4> \n",
       "<table border=\"1\">\n",
       "</table>\n",
       "</font>\n"
      ],
      "text/plain": [
       "<EngineeringTools.container.Obj at 0x1d72dbed070>"
      ]
     },
     "execution_count": 3,
     "metadata": {},
     "output_type": "execute_result"
    }
   ],
   "source": [
    "o2 = ET.Obj('test')\n",
    "print('=', str(o2), '=')\n",
    "o2"
   ]
  },
  {
   "cell_type": "code",
   "execution_count": 4,
   "metadata": {},
   "outputs": [
    {
     "data": {
      "text/html": [
       "<h4 style=\"text-align:left\">test2 </h4> \n",
       "<table border=\"1\">\n",
       "</table>\n",
       "</font>\n"
      ],
      "text/plain": [
       "<EngineeringTools.container.Obj at 0x1d72dbed070>"
      ]
     },
     "execution_count": 4,
     "metadata": {},
     "output_type": "execute_result"
    }
   ],
   "source": [
    "o2.name = 'test2'\n",
    "o2"
   ]
  },
  {
   "cell_type": "code",
   "execution_count": 5,
   "metadata": {},
   "outputs": [
    {
     "data": {
      "text/html": [
       "<h4 style=\"text-align:left\">test list </h4> \n",
       "<table border=\"1\">\n",
       "<tr>\n",
       "<td valign=\"top\">list</td>\n",
       "<td style=\"text-align:left\"><font face=\"monospace\">&nbsp;&nbsp;&nbsp;&nbsp;&nbsp;1&nbsp;000.000&nbsp;mm&nbsp;(Distance)</font>\n",
       "<br><font face=\"monospace\">&nbsp;&nbsp;&nbsp;&nbsp;&nbsp;2&nbsp;000.000&nbsp;mm&nbsp;(Distance)</font>\n",
       "<br><font face=\"monospace\">&nbsp;&nbsp;&nbsp;&nbsp;&nbsp;3&nbsp;000.000&nbsp;mm&nbsp;(Distance)</font>\n",
       "</td>\n",
       "</tr>\n",
       "<tr>\n",
       "<td valign=\"top\">array</td>\n",
       "<td style=\"text-align:left\"><font face=\"monospace\">&nbsp;&nbsp;&nbsp;&nbsp;&nbsp;1&nbsp;000.000&nbsp;mm&nbsp;(Distance)</font>\n",
       "<br><font face=\"monospace\">&nbsp;&nbsp;&nbsp;&nbsp;&nbsp;2&nbsp;000.000&nbsp;mm&nbsp;(Distance)</font>\n",
       "<br><font face=\"monospace\">&nbsp;&nbsp;&nbsp;&nbsp;&nbsp;3&nbsp;000.000&nbsp;mm&nbsp;(Distance)</font>\n",
       "</td>\n",
       "</tr>\n",
       "</table>\n",
       "</font>\n"
      ],
      "text/plain": [
       "<EngineeringTools.container.Obj at 0x1d72e219370>"
      ]
     },
     "execution_count": 5,
     "metadata": {},
     "output_type": "execute_result"
    }
   ],
   "source": [
    "o = ET.Obj('test list')\n",
    "o.list = [ETQ.Distance(1,'m'), \n",
    "          ETQ.Distance(2,'m'), \n",
    "          ETQ.Distance(3,'m')]\n",
    "o.array = r_[ETQ.Distance(1,'m'), \n",
    "             ETQ.Distance(2,'m'), \n",
    "             ETQ.Distance(3,'m')]\n",
    "o"
   ]
  },
  {
   "cell_type": "code",
   "execution_count": 6,
   "metadata": {},
   "outputs": [
    {
     "data": {
      "text/plain": [
       "numpy.ndarray"
      ]
     },
     "execution_count": 6,
     "metadata": {},
     "output_type": "execute_result"
    }
   ],
   "source": [
    "type(o.array)"
   ]
  },
  {
   "cell_type": "code",
   "execution_count": null,
   "metadata": {},
   "outputs": [],
   "source": []
  },
  {
   "cell_type": "code",
   "execution_count": null,
   "metadata": {},
   "outputs": [],
   "source": []
  }
 ],
 "metadata": {
  "kernelspec": {
   "display_name": "Python 3",
   "language": "python",
   "name": "python3"
  },
  "language_info": {
   "codemirror_mode": {
    "name": "ipython",
    "version": 3
   },
   "file_extension": ".py",
   "mimetype": "text/x-python",
   "name": "python",
   "nbconvert_exporter": "python",
   "pygments_lexer": "ipython3",
   "version": "3.8.6"
  },
  "latex_envs": {
   "LaTeX_envs_menu_present": true,
   "autoclose": false,
   "autocomplete": true,
   "bibliofile": "biblio.bib",
   "cite_by": "apalike",
   "current_citInitial": 1,
   "eqLabelWithNumbers": true,
   "eqNumInitial": 1,
   "hotkeys": {
    "equation": "Ctrl-E",
    "itemize": "Ctrl-I"
   },
   "labels_anchors": false,
   "latex_user_defs": false,
   "report_style_numbering": false,
   "user_envs_cfg": false
  },
  "toc": {
   "base_numbering": 1,
   "nav_menu": {},
   "number_sections": true,
   "sideBar": true,
   "skip_h1_title": false,
   "title_cell": "Table of Contents",
   "title_sidebar": "Contents",
   "toc_cell": false,
   "toc_position": {},
   "toc_section_display": true,
   "toc_window_display": false
  },
  "varInspector": {
   "cols": {
    "lenName": 16,
    "lenType": 16,
    "lenVar": 40
   },
   "kernels_config": {
    "python": {
     "delete_cmd_postfix": "",
     "delete_cmd_prefix": "del ",
     "library": "var_list.py",
     "varRefreshCmd": "print(var_dic_list())"
    },
    "r": {
     "delete_cmd_postfix": ") ",
     "delete_cmd_prefix": "rm(",
     "library": "var_list.r",
     "varRefreshCmd": "cat(var_dic_list()) "
    }
   },
   "types_to_exclude": [
    "module",
    "function",
    "builtin_function_or_method",
    "instance",
    "_Feature"
   ],
   "window_display": false
  }
 },
 "nbformat": 4,
 "nbformat_minor": 4
}
